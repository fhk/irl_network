{
 "cells": [
  {
   "cell_type": "markdown",
   "metadata": {
    "colab_type": "text",
    "id": "72B87Lt4YadF"
   },
   "source": [
    "# Where are the physical points for search?"
   ]
  },
  {
   "cell_type": "code",
   "execution_count": 22,
   "metadata": {
    "colab": {},
    "colab_type": "code",
    "id": "T0d9sZOOYadI",
    "outputId": "9587c91d-045a-4cfc-838f-e98948e01d55"
   },
   "outputs": [
    {
     "data": {
      "text/html": [
       "<img src=\"data:image/jpeg;base64,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\"/>"
      ],
      "text/plain": [
       "<IPython.core.display.Image object>"
      ]
     },
     "execution_count": 22,
     "metadata": {},
     "output_type": "execute_result"
    }
   ],
   "source": [
    "from IPython.display import Image\n",
    "from IPython.core.display import HTML \n",
    "Image(url= \"data:image/jpeg;base64,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\")"
   ]
  },
  {
   "cell_type": "markdown",
   "metadata": {
    "colab_type": "text",
    "id": "aVP78gyNYada"
   },
   "source": [
    "I like the internet! But how does it work? Well there is a great [book](https://www.amazon.com/Where-Wizards-Stay-Up-Late/d) that covers part of the history!\n",
    "\n",
    "So the crux of it is that there is a cable that goes to your house which links you to another location that links to other locations.\n",
    "\n",
    "So you're wondering can I examine this structure? Well yes and no, its always changing. Check out his [page](https://www.kaspersky.com/blog/amazing-internet-maps/10441/) to get some idea."
   ]
  },
  {
   "cell_type": "code",
   "execution_count": 0,
   "metadata": {
    "colab": {},
    "colab_type": "code",
    "id": "8RvzsstkYadd",
    "outputId": "5e8a0be5-6ea2-405e-a5b0-d62d8579e807"
   },
   "outputs": [
    {
     "data": {
      "text/html": [
       "<img src=\"https://media.kasperskydaily.com/wp-content/uploads/sites/92/2015/11/06023824/internet-map-FB.jpg\"/>"
      ],
      "text/plain": [
       "<IPython.core.display.Image object>"
      ]
     },
     "execution_count": 2,
     "metadata": {
      "tags": []
     },
     "output_type": "execute_result"
    }
   ],
   "source": [
    "Image(url= \"https://media.kasperskydaily.com/wp-content/uploads/sites/92/2015/11/06023824/internet-map-FB.jpg\")"
   ]
  },
  {
   "cell_type": "markdown",
   "metadata": {
    "colab_type": "text",
    "id": "rAoZo7TlYadj"
   },
   "source": [
    "## Can I explore the interenet on my machine?\n",
    "\n",
    "While the traditional browser option is tried and trusted we can also look at the lower levels by using the cmd line.\n",
    "\n",
    "With tools such as \"traceroute\". There is a great course by Dr Chuck where you can learn more [here](https://www.coursera.org/learn/internet-history).\n",
    "\n",
    "So lets try it out."
   ]
  },
  {
   "cell_type": "code",
   "execution_count": 1,
   "metadata": {
    "colab": {},
    "colab_type": "code",
    "id": "GNBACPJsYadm",
    "outputId": "fae04285-d2a8-41bf-c84a-1069c4937031"
   },
   "outputs": [
    {
     "name": "stdout",
     "output_type": "stream",
     "text": [
      "traceroute to google.com (172.217.6.46), 30 hops max, 60 byte packets\n",
      " 1  _gateway (10.0.2.2)  0.802 ms  0.749 ms  0.707 ms\n",
      " 2  _gateway (10.0.2.2)  21.940 ms  21.896 ms  21.802 ms\n"
     ]
    }
   ],
   "source": [
    "!traceroute google.com"
   ]
  },
  {
   "cell_type": "markdown",
   "metadata": {
    "colab_type": "text",
    "id": "-uBKEmqwYadw"
   },
   "source": [
    "Now that we have some IP addresses we want figure out where they are! One good library for this is: [ipinfo](https://github.com/ipinfo/python)"
   ]
  },
  {
   "cell_type": "code",
   "execution_count": 1,
   "metadata": {
    "colab": {
     "base_uri": "https://localhost:8080/",
     "height": 276
    },
    "colab_type": "code",
    "executionInfo": {
     "elapsed": 3738,
     "status": "ok",
     "timestamp": 1553727645669,
     "user": {
      "displayName": "Fabion Kauker",
      "photoUrl": "",
      "userId": "07533387144482422345"
     },
     "user_tz": 420
    },
    "id": "yHQ3PszeYadz",
    "outputId": "3c1427b7-30f4-4251-c3cb-2ba81fe353ab"
   },
   "outputs": [
    {
     "name": "stdout",
     "output_type": "stream",
     "text": [
      "Requirement already satisfied: geoip2 in /home/banana/anaconda3/envs/demo/lib/python3.6/site-packages (2.9.0)\n",
      "Requirement already satisfied: cartopy in /home/banana/anaconda3/envs/demo/lib/python3.6/site-packages (0.17.0)\n",
      "Requirement already satisfied: ipinfo in /home/banana/.local/lib/python3.6/site-packages (1.1.1)\n",
      "Requirement already satisfied: pypia in /home/banana/.local/lib/python3.6/site-packages (0.3.6)\n",
      "Requirement already satisfied: scapy in /home/banana/.local/lib/python3.6/site-packages (2.4.2)\n",
      "Requirement already satisfied: matplotlib in /home/banana/.local/lib/python3.6/site-packages (3.0.3)\n",
      "Requirement already satisfied: vpython in /home/banana/anaconda3/envs/demo/lib/python3.6/site-packages (7.5.0)\n",
      "Requirement already satisfied: googlemaps in /home/banana/anaconda3/envs/demo/lib/python3.6/site-packages (3.0.2)\n",
      "Requirement already satisfied: gmaps in /home/banana/anaconda3/envs/demo/lib/python3.6/site-packages (0.8.4)\n",
      "Requirement already satisfied: requests>=2.9 in /home/banana/.local/lib/python3.6/site-packages (from geoip2) (2.21.0)\n",
      "Requirement already satisfied: maxminddb>=1.4.0 in /home/banana/anaconda3/envs/demo/lib/python3.6/site-packages (from geoip2) (1.4.1)\n",
      "Requirement already satisfied: numpy>=1.10 in /home/banana/.local/lib/python3.6/site-packages (from cartopy) (1.16.2)\n",
      "Requirement already satisfied: pyshp>=1.1.4 in /home/banana/anaconda3/envs/demo/lib/python3.6/site-packages (from cartopy) (2.0.1)\n",
      "Requirement already satisfied: setuptools>=0.7.2 in /home/banana/.local/lib/python3.6/site-packages (from cartopy) (40.9.0)\n",
      "Requirement already satisfied: shapely>=1.5.6 in /home/banana/anaconda3/envs/demo/lib/python3.6/site-packages (from cartopy) (1.6.4.post1)\n",
      "Requirement already satisfied: six>=1.3.0 in /home/banana/.local/lib/python3.6/site-packages (from cartopy) (1.12.0)\n",
      "Requirement already satisfied: cachetools in /home/banana/.local/lib/python3.6/site-packages (from ipinfo) (3.1.0)\n",
      "Requirement already satisfied: kiwisolver>=1.0.1 in /home/banana/.local/lib/python3.6/site-packages (from matplotlib) (1.0.1)\n",
      "Requirement already satisfied: cycler>=0.10 in /home/banana/.local/lib/python3.6/site-packages (from matplotlib) (0.10.0)\n",
      "Requirement already satisfied: pyparsing!=2.0.4,!=2.1.2,!=2.1.6,>=2.0.1 in /home/banana/.local/lib/python3.6/site-packages (from matplotlib) (2.3.1)\n",
      "Requirement already satisfied: python-dateutil>=2.1 in /home/banana/.local/lib/python3.6/site-packages (from matplotlib) (2.8.0)\n",
      "Requirement already satisfied: jupyter in /home/banana/anaconda3/envs/demo/lib/python3.6/site-packages (from vpython) (1.0.0)\n",
      "Requirement already satisfied: vpnotebook in /home/banana/anaconda3/envs/demo/lib/python3.6/site-packages (from vpython) (0.1.3)\n",
      "Requirement already satisfied: ipykernel in /home/banana/.local/lib/python3.6/site-packages (from vpython) (5.1.0)\n",
      "Requirement already satisfied: autobahn in /home/banana/anaconda3/envs/demo/lib/python3.6/site-packages (from vpython) (19.3.3)\n",
      "Requirement already satisfied: ipython>=5.3.0 in /home/banana/.local/lib/python3.6/site-packages (from gmaps) (7.4.0)\n",
      "Requirement already satisfied: geojson>=2.0.0 in /home/banana/anaconda3/envs/demo/lib/python3.6/site-packages (from gmaps) (2.4.1)\n",
      "Requirement already satisfied: traitlets>=4.3.0 in /home/banana/.local/lib/python3.6/site-packages (from gmaps) (4.3.2)\n",
      "Requirement already satisfied: ipywidgets>=7.0.0 in /home/banana/anaconda3/envs/demo/lib/python3.6/site-packages (from gmaps) (7.4.2)\n",
      "Requirement already satisfied: urllib3<1.25,>=1.21.1 in /home/banana/.local/lib/python3.6/site-packages (from requests>=2.9->geoip2) (1.24.1)\n",
      "Requirement already satisfied: idna<2.9,>=2.5 in /home/banana/.local/lib/python3.6/site-packages (from requests>=2.9->geoip2) (2.8)\n",
      "Requirement already satisfied: certifi>=2017.4.17 in /home/banana/.local/lib/python3.6/site-packages (from requests>=2.9->geoip2) (2019.3.9)\n",
      "Requirement already satisfied: chardet<3.1.0,>=3.0.2 in /home/banana/.local/lib/python3.6/site-packages (from requests>=2.9->geoip2) (3.0.4)\n",
      "Requirement already satisfied: nbconvert in /home/banana/.local/lib/python3.6/site-packages (from jupyter->vpython) (5.4.1)\n",
      "Requirement already satisfied: notebook in /home/banana/.local/lib/python3.6/site-packages (from jupyter->vpython) (5.7.8)\n",
      "Requirement already satisfied: qtconsole in /home/banana/anaconda3/envs/demo/lib/python3.6/site-packages (from jupyter->vpython) (4.4.3)\n",
      "Requirement already satisfied: jupyter-console in /home/banana/anaconda3/envs/demo/lib/python3.6/site-packages (from jupyter->vpython) (6.0.0)\n",
      "Requirement already satisfied: tornado>=4.2 in /home/banana/.local/lib/python3.6/site-packages (from ipykernel->vpython) (6.0.2)\n",
      "Requirement already satisfied: jupyter-client in /home/banana/.local/lib/python3.6/site-packages (from ipykernel->vpython) (5.2.4)\n",
      "Requirement already satisfied: txaio>=18.8.1 in /home/banana/anaconda3/envs/demo/lib/python3.6/site-packages (from autobahn->vpython) (18.8.1)\n",
      "Requirement already satisfied: jedi>=0.10 in /home/banana/.local/lib/python3.6/site-packages (from ipython>=5.3.0->gmaps) (0.13.3)\n",
      "Requirement already satisfied: backcall in /home/banana/.local/lib/python3.6/site-packages (from ipython>=5.3.0->gmaps) (0.1.0)\n",
      "Requirement already satisfied: decorator in /home/banana/.local/lib/python3.6/site-packages (from ipython>=5.3.0->gmaps) (4.4.0)\n",
      "Requirement already satisfied: pickleshare in /home/banana/.local/lib/python3.6/site-packages (from ipython>=5.3.0->gmaps) (0.7.5)\n",
      "Requirement already satisfied: pygments in /home/banana/.local/lib/python3.6/site-packages (from ipython>=5.3.0->gmaps) (2.3.1)\n",
      "Requirement already satisfied: pexpect; sys_platform != \"win32\" in /home/banana/.local/lib/python3.6/site-packages (from ipython>=5.3.0->gmaps) (4.6.0)\n",
      "Requirement already satisfied: prompt-toolkit<2.1.0,>=2.0.0 in /home/banana/.local/lib/python3.6/site-packages (from ipython>=5.3.0->gmaps) (2.0.9)\n",
      "Requirement already satisfied: ipython-genutils in /home/banana/.local/lib/python3.6/site-packages (from traitlets>=4.3.0->gmaps) (0.2.0)\n",
      "Requirement already satisfied: nbformat>=4.2.0 in /home/banana/.local/lib/python3.6/site-packages (from ipywidgets>=7.0.0->gmaps) (4.4.0)\n",
      "Requirement already satisfied: widgetsnbextension~=3.4.0 in /home/banana/.local/lib/python3.6/site-packages (from ipywidgets>=7.0.0->gmaps) (3.4.2)\n",
      "Requirement already satisfied: defusedxml in /home/banana/.local/lib/python3.6/site-packages (from nbconvert->jupyter->vpython) (0.5.0)\n",
      "Requirement already satisfied: testpath in /home/banana/.local/lib/python3.6/site-packages (from nbconvert->jupyter->vpython) (0.4.2)\n",
      "Requirement already satisfied: mistune>=0.8.1 in /home/banana/.local/lib/python3.6/site-packages (from nbconvert->jupyter->vpython) (0.8.4)\n",
      "Requirement already satisfied: jupyter-core in /home/banana/.local/lib/python3.6/site-packages (from nbconvert->jupyter->vpython) (4.4.0)\n",
      "Requirement already satisfied: bleach in /home/banana/.local/lib/python3.6/site-packages (from nbconvert->jupyter->vpython) (3.1.0)\n",
      "Requirement already satisfied: pandocfilters>=1.4.1 in /home/banana/.local/lib/python3.6/site-packages (from nbconvert->jupyter->vpython) (1.4.2)\n",
      "Requirement already satisfied: jinja2 in /home/banana/.local/lib/python3.6/site-packages (from nbconvert->jupyter->vpython) (2.10)\n",
      "Requirement already satisfied: entrypoints>=0.2.2 in /home/banana/.local/lib/python3.6/site-packages (from nbconvert->jupyter->vpython) (0.3)\n",
      "Requirement already satisfied: Send2Trash in /home/banana/.local/lib/python3.6/site-packages (from notebook->jupyter->vpython) (1.5.0)\n",
      "Requirement already satisfied: pyzmq>=17 in /home/banana/.local/lib/python3.6/site-packages (from notebook->jupyter->vpython) (18.0.1)\n",
      "Requirement already satisfied: terminado>=0.8.1 in /home/banana/.local/lib/python3.6/site-packages (from notebook->jupyter->vpython) (0.8.2)\n",
      "Requirement already satisfied: prometheus-client in /home/banana/.local/lib/python3.6/site-packages (from notebook->jupyter->vpython) (0.6.0)\n",
      "Requirement already satisfied: parso>=0.3.0 in /home/banana/.local/lib/python3.6/site-packages (from jedi>=0.10->ipython>=5.3.0->gmaps) (0.3.4)\n",
      "Requirement already satisfied: ptyprocess>=0.5 in /home/banana/.local/lib/python3.6/site-packages (from pexpect; sys_platform != \"win32\"->ipython>=5.3.0->gmaps) (0.6.0)\n",
      "Requirement already satisfied: wcwidth in /home/banana/.local/lib/python3.6/site-packages (from prompt-toolkit<2.1.0,>=2.0.0->ipython>=5.3.0->gmaps) (0.1.7)\n"
     ]
    },
    {
     "name": "stdout",
     "output_type": "stream",
     "text": [
      "Requirement already satisfied: jsonschema!=2.5.0,>=2.4 in /home/banana/.local/lib/python3.6/site-packages (from nbformat>=4.2.0->ipywidgets>=7.0.0->gmaps) (3.0.1)\n",
      "Requirement already satisfied: webencodings in /home/banana/.local/lib/python3.6/site-packages (from bleach->nbconvert->jupyter->vpython) (0.5.1)\n",
      "Requirement already satisfied: MarkupSafe>=0.23 in /home/banana/.local/lib/python3.6/site-packages (from jinja2->nbconvert->jupyter->vpython) (1.1.1)\n",
      "Requirement already satisfied: pyrsistent>=0.14.0 in /home/banana/.local/lib/python3.6/site-packages (from jsonschema!=2.5.0,>=2.4->nbformat>=4.2.0->ipywidgets>=7.0.0->gmaps) (0.14.11)\n",
      "Requirement already satisfied: attrs>=17.4.0 in /home/banana/.local/lib/python3.6/site-packages (from jsonschema!=2.5.0,>=2.4->nbformat>=4.2.0->ipywidgets>=7.0.0->gmaps) (19.1.0)\n"
     ]
    }
   ],
   "source": [
    "!pip install geoip2 cartopy ipinfo pypia scapy matplotlib vpython googlemaps gmaps"
   ]
  },
  {
   "cell_type": "code",
   "execution_count": 34,
   "metadata": {},
   "outputs": [
    {
     "name": "stdout",
     "output_type": "stream",
     "text": [
      "Enabling notebook extension jupyter-js-widgets/extension...\n",
      "      - Validating: \u001b[32mOK\u001b[0m\n",
      "Enabling notebook extension jupyter-gmaps/extension...\n",
      "      - Validating: \u001b[32mOK\u001b[0m\n"
     ]
    }
   ],
   "source": [
    "!jupyter nbextension enable --py --sys-prefix widgetsnbextension\n",
    "!jupyter nbextension enable --py --sys-prefix gmaps"
   ]
  },
  {
   "cell_type": "code",
   "execution_count": 2,
   "metadata": {
    "colab": {},
    "colab_type": "code",
    "id": "X_J1JZJ2Yad5"
   },
   "outputs": [],
   "source": [
    "import ipinfo"
   ]
  },
  {
   "cell_type": "code",
   "execution_count": 3,
   "metadata": {
    "colab": {},
    "colab_type": "code",
    "id": "iOCr6GBDYad8"
   },
   "outputs": [],
   "source": [
    "# You'll need a API key which you can get here: \n",
    "access_token = 'your_api_key'\n",
    "handler = ipinfo.getHandler(access_token)\n",
    "ip_address = \"172.217.6.46\"\n",
    "details = handler.getDetails(ip_address)"
   ]
  },
  {
   "cell_type": "code",
   "execution_count": 4,
   "metadata": {
    "colab": {},
    "colab_type": "code",
    "id": "RvNA68bfYad_",
    "outputId": "48aa4bb5-0809-410b-8e38-2a0094383950"
   },
   "outputs": [
    {
     "data": {
      "text/plain": [
       "{'ip': '172.217.6.46',\n",
       " 'hostname': 'sfo03s08-in-f14.1e100.net',\n",
       " 'city': '',\n",
       " 'region': '',\n",
       " 'country': 'US',\n",
       " 'loc': '37.7510,-97.8220',\n",
       " 'org': 'AS15169 Google LLC',\n",
       " 'country_name': 'United States',\n",
       " 'ip_address': IPv4Address('172.217.6.46'),\n",
       " 'latitude': '37.7510',\n",
       " 'longitude': '-97.8220'}"
      ]
     },
     "execution_count": 4,
     "metadata": {},
     "output_type": "execute_result"
    }
   ],
   "source": [
    "details.details"
   ]
  },
  {
   "cell_type": "markdown",
   "metadata": {
    "colab_type": "text",
    "id": "Ypo-xEFsYaeE"
   },
   "source": [
    "Next we want to be able to change out location to ascertain different locations as each resolution varies.\n",
    "\n",
    "In previous versions I tried to use a SOCKS connection but it didnt quite work.\n",
    "Head over to you VPN provider and create a SOCKS access token. I'm using PIA - [link](https://www.privateinternetaccess.com/helpdesk/kb/articles/can-i-use-socks5)\n",
    "\n",
    "Now the pypia library offers what we want. But as I discovered due to being in a active notebook the connection cannot be pudated\n",
    "\n",
    "Finally run \"pypia -i\" to login and setup the configuration.\n",
    "\n",
    "The below command shuffle your VPN connection."
   ]
  },
  {
   "cell_type": "code",
   "execution_count": 5,
   "metadata": {
    "colab": {
     "base_uri": "https://localhost:8080/",
     "height": 4695
    },
    "colab_type": "code",
    "executionInfo": {
     "elapsed": 155705,
     "status": "ok",
     "timestamp": 1553727890573,
     "user": {
      "displayName": "Fabion Kauker",
      "photoUrl": "",
      "userId": "07533387144482422345"
     },
     "user_tz": 420
    },
    "id": "tjqFCcBUYaeI",
    "outputId": "81e47e1d-6667-4498-e9b2-177277c62eb8"
   },
   "outputs": [
    {
     "name": "stdout",
     "output_type": "stream",
     "text": [
      "Activating PIA - Romania...\n",
      "Connection successfully activated (D-Bus active path: /org/freedesktop/NetworkManager/ActiveConnection/2)\n"
     ]
    }
   ],
   "source": [
    "!pypia -s -r all"
   ]
  },
  {
   "cell_type": "code",
   "execution_count": 6,
   "metadata": {},
   "outputs": [],
   "source": [
    "# Why do this? Well turns out when you connected to a new vpn the current kernel loses internet connectivity!!!\n",
    "run_scapy = \"\"\"\n",
    "from datetime import datetime\n",
    "from scapy.all import *\n",
    "import pickle\n",
    "\n",
    "target = [\"www.google.com\"]\\n\n",
    "result, unans = traceroute(target,maxttl=20)\\n\n",
    "\n",
    "when = datetime.now()\n",
    "\n",
    "when_str = '{:%Y-%m-%d %H-%M-%S}'.format(when)\n",
    "\n",
    "with open(f\"result.{when_str}.obj\", 'wb') as out_obj:\n",
    "    pickle.dump(result, out_obj)\n",
    "\n",
    "\"\"\"\n",
    "\n",
    "with open(\"run_scapy.py\", 'w') as py_out:\n",
    "    py_out.write(run_scapy)"
   ]
  },
  {
   "cell_type": "markdown",
   "metadata": {
    "colab": {
     "base_uri": "https://localhost:8080/",
     "height": 63
    },
    "colab_type": "code",
    "executionInfo": {
     "elapsed": 1233,
     "status": "ok",
     "timestamp": 1553729658804,
     "user": {
      "displayName": "Fabion Kauker",
      "photoUrl": "",
      "userId": "07533387144482422345"
     },
     "user_tz": 420
    },
    "id": "9fTLslMwYaeW",
    "outputId": "9cc56cd3-e4e8-4e9b-b6ef-0ed9dbd7ee14"
   },
   "source": [
    "Now lets run the trace from the new location. We did this a few times to collect multiple traces."
   ]
  },
  {
   "cell_type": "code",
   "execution_count": 11,
   "metadata": {
    "colab": {},
    "colab_type": "code",
    "id": "GrdcWnigYaeZ"
   },
   "outputs": [
    {
     "name": "stdout",
     "output_type": "stream",
     "text": [
      "[sudo] password for banana: Begin emission:\n",
      "*Finished sending 20 packets.\n",
      "******************\n",
      "Received 19 packets, got 19 answers, remaining 0 packets\n",
      "   64.233.185.103:tcp80 \n",
      "1  10.0.2.2        11   \n",
      "2  64.233.185.103  SA   \n",
      "3  64.233.185.103  SA   \n",
      "4  64.233.185.103  SA   \n",
      "5  64.233.185.103  SA   \n",
      "6  64.233.185.103  SA   \n",
      "7  64.233.185.103  SA   \n",
      "8  64.233.185.103  SA   \n",
      "9  64.233.185.103  SA   \n",
      "10 64.233.185.103  SA   \n",
      "12 64.233.185.103  SA   \n",
      "13 64.233.185.103  SA   \n",
      "14 64.233.185.103  SA   \n",
      "15 64.233.185.103  SA   \n",
      "16 64.233.185.103  SA   \n",
      "17 64.233.185.103  SA   \n",
      "18 64.233.185.103  SA   \n",
      "19 64.233.185.103  SA   \n",
      "20 64.233.185.103  SA   \n",
      "[sudo] password for banana: "
     ]
    }
   ],
   "source": [
    "!echo password | sudo -S python3 run_scapy.py\n",
    "!echo password | sudo -S chmod 777 *.obj"
   ]
  },
  {
   "cell_type": "code",
   "execution_count": 10,
   "metadata": {},
   "outputs": [
    {
     "name": "stdout",
     "output_type": "stream",
     "text": [
      "Disconnecting PIA - DE Frankfurt...\n",
      "Connection 'PIA - DE Frankfurt' successfully deactivated (D-Bus active path: /org/freedesktop/NetworkManager/ActiveConnection/4)\n",
      "Activating PIA - Brazil...\n",
      "Error: Connection activation failed: The connection attempt timed out\n"
     ]
    }
   ],
   "source": [
    "!pypia -s -r all"
   ]
  },
  {
   "cell_type": "code",
   "execution_count": 12,
   "metadata": {
    "colab": {
     "base_uri": "https://localhost:8080/",
     "height": 267
    },
    "colab_type": "code",
    "executionInfo": {
     "elapsed": 1632,
     "status": "ok",
     "timestamp": 1553729405824,
     "user": {
      "displayName": "Fabion Kauker",
      "photoUrl": "",
      "userId": "07533387144482422345"
     },
     "user_tz": 420
    },
    "id": "Uv_0eMyZcu_a",
    "outputId": "d0ad361f-8355-4bb7-ff7f-53a759a597d3"
   },
   "outputs": [],
   "source": [
    "# Lets read in all the traces\n",
    "import glob\n",
    "import pickle\n",
    "\n",
    "results = (glob.glob(\"./*.obj\"))\n",
    "\n",
    "traces = None\n",
    "\n",
    "for r in results:\n",
    "    with open(r, 'rb') as o_r:\n",
    "        a_r = pickle.load(o_r)\n",
    "        if traces is not None:\n",
    "            traces += a_r\n",
    "        else:\n",
    "            traces = a_r"
   ]
  },
  {
   "cell_type": "code",
   "execution_count": 13,
   "metadata": {
    "colab": {},
    "colab_type": "code",
    "id": "dGVa7FrGdNoZ"
   },
   "outputs": [],
   "source": [
    "from scapy import *"
   ]
  },
  {
   "cell_type": "code",
   "execution_count": 14,
   "metadata": {},
   "outputs": [
    {
     "data": {
      "text/html": [
       "<div id=\"glowscript\" class=\"glowscript\"></div>"
      ],
      "text/plain": [
       "<IPython.core.display.HTML object>"
      ]
     },
     "metadata": {},
     "output_type": "display_data"
    },
    {
     "data": {
      "application/javascript": [
       "if (typeof Jupyter !== \"undefined\") { window.__context = { glowscript_container: $(\"#glowscript\").removeAttr(\"id\")};}else{ element.textContent = ' ';}"
      ],
      "text/plain": [
       "<IPython.core.display.Javascript object>"
      ]
     },
     "metadata": {},
     "output_type": "display_data"
    },
    {
     "data": {
      "text/html": [
       "<div id=\"glowscript\" class=\"glowscript\"></div>"
      ],
      "text/plain": [
       "<IPython.core.display.HTML object>"
      ]
     },
     "metadata": {},
     "output_type": "display_data"
    },
    {
     "data": {
      "application/javascript": [
       "if (typeof Jupyter !== \"undefined\") { window.__context = { glowscript_container: $(\"#glowscript\").removeAttr(\"id\")};}else{ element.textContent = ' ';}"
      ],
      "text/plain": [
       "<IPython.core.display.Javascript object>"
      ]
     },
     "metadata": {},
     "output_type": "display_data"
    },
    {
     "data": {
      "application/javascript": [
       "if (typeof Jupyter !== \"undefined\") {require.undef(\"nbextensions/vpython_libraries/glow.min\");}else{element.textContent = ' ';}"
      ],
      "text/plain": [
       "<IPython.core.display.Javascript object>"
      ]
     },
     "metadata": {},
     "output_type": "display_data"
    },
    {
     "data": {
      "application/javascript": [
       "if (typeof Jupyter !== \"undefined\") {require.undef(\"nbextensions/vpython_libraries/glowcomm\");}else{element.textContent = ' ';}"
      ],
      "text/plain": [
       "<IPython.core.display.Javascript object>"
      ]
     },
     "metadata": {},
     "output_type": "display_data"
    },
    {
     "data": {
      "application/javascript": [
       "if (typeof Jupyter !== \"undefined\") {require.undef(\"nbextensions/vpython_libraries/jquery-ui.custom.min\");}else{element.textContent = ' ';}"
      ],
      "text/plain": [
       "<IPython.core.display.Javascript object>"
      ]
     },
     "metadata": {},
     "output_type": "display_data"
    },
    {
     "data": {
      "application/javascript": [
       "if (typeof Jupyter !== \"undefined\") {require([\"nbextensions/vpython_libraries/glow.min\"], function(){console.log(\"GLOW LOADED\");});}else{element.textContent = ' ';}"
      ],
      "text/plain": [
       "<IPython.core.display.Javascript object>"
      ]
     },
     "metadata": {},
     "output_type": "display_data"
    },
    {
     "data": {
      "application/javascript": [
       "if (typeof Jupyter !== \"undefined\") {require([\"nbextensions/vpython_libraries/glowcomm\"], function(){console.log(\"GLOWCOMM LOADED\");});}else{element.textContent = ' ';}"
      ],
      "text/plain": [
       "<IPython.core.display.Javascript object>"
      ]
     },
     "metadata": {},
     "output_type": "display_data"
    },
    {
     "data": {
      "application/javascript": [
       "if (typeof Jupyter !== \"undefined\") {require([\"nbextensions/vpython_libraries/jquery-ui.custom.min\"], function(){console.log(\"JQUERY LOADED\");});}else{element.textContent = ' ';}"
      ],
      "text/plain": [
       "<IPython.core.display.Javascript object>"
      ]
     },
     "metadata": {},
     "output_type": "display_data"
    }
   ],
   "source": [
    "traces.trace3D_notebook()"
   ]
  },
  {
   "cell_type": "code",
   "execution_count": 15,
   "metadata": {
    "scrolled": true
   },
   "outputs": [
    {
     "name": "stdout",
     "output_type": "stream",
     "text": [
      "   172.217.1.4:tcp80  172.217.12.132:tcp80 172.217.14.68:tcp80 172.217.16.132:tcp80 172.217.17.132:tcp80 172.217.21.132:tcp80 172.217.22.100:tcp80 172.217.5.100:tcp80 216.58.196.132:tcp80 216.58.199.36:tcp80 216.58.211.36:tcp80 216.58.215.228:tcp80 64.233.185.103:tcp80 \n",
      "1  10.3.10.1       11 10.70.10.1      11   10.37.10.1      11  10.71.10.1      11   10.39.10.1      11   10.87.10.1      11   10.39.10.1      11   10.31.10.1      11  10.36.10.1      11   10.74.10.1      11  10.69.10.1      11  10.54.10.1      11   10.0.2.2        11   \n",
      "2  199.229.249.254 11 209.95.50.2     11   104.200.151.1   11  185.220.70.161  11   109.201.154.254 11   23.92.112.1     11   94.176.148.33   11   199.127.56.113  11  168.1.75.2      11   103.231.90.169  11  185.230.124.49  11  185.230.125.33  11   64.233.185.103  SA   \n",
      "3  199.229.249.2   11 185.7.225.180   11   184.170.242.61  11  82.102.29.230   11   79.140.91.49    11   217.64.32.245   11   172.30.254.29   11   192.228.109.173 11  168.1.118.130   11   103.231.90.249  11  82.102.29.82    11  185.206.226.118 11   64.233.185.103  SA   \n",
      "4  98.124.173.249  11 198.32.160.130  11   173.205.46.177  11  212.103.51.49   11   195.22.211.205  11   87.236.158.50   11   172.30.255.62   11   192.228.109.193 11  50.97.19.76     11   -                   213.242.112.193 11  176.10.83.64    11   64.233.185.103  SA   \n",
      "5  141.136.105.210 11 108.170.248.97  11   89.149.140.77   11  37.120.128.253  11   141.136.102.230 11   87.236.158.144  11   193.27.65.69    11   192.228.109.78  11  169.53.16.46    11   111.118.196.18  11  4.68.73.34      11  193.9.115.248   11   64.233.185.103  SA   \n",
      "6  74.125.147.196  11 108.170.227.211 11   216.221.156.186 11  37.120.128.253  11   108.170.251.145 11   87.236.158.143  11   80.81.193.108   11   206.81.80.17    11  169.45.19.10    11   114.31.202.55   11  -                   37.120.128.253  11   64.233.185.103  SA   \n",
      "7  108.170.250.225 11 108.170.227.211 11   108.170.247.193 11  108.170.251.129 11   108.170.251.144 11   80.81.192.108   11   108.170.251.129 11   108.170.245.123 11  169.45.18.245   11   114.31.192.39   11  108.170.234.221 11  172.253.50.23   11   64.233.185.103  SA   \n",
      "8  216.239.35.233  11 172.217.12.132  SA   209.85.245.229  11  66.249.94.245   11   172.217.17.132  SA   108.170.252.82  11   72.14.234.113   11   64.233.174.205  11  45.127.172.73   11   114.31.201.18   11  216.58.211.36   SA  216.58.215.228  SA   64.233.185.103  SA   \n",
      "9  172.217.1.4     SA 172.217.12.132  SA   172.217.14.68   SA  172.217.16.132  SA   209.85.254.156  11   108.170.229.168 11   172.217.22.100  SA   74.125.253.148  11  108.170.247.49  11   209.85.243.243  11  216.58.211.36   SA  216.58.215.228  SA   64.233.185.103  SA   \n",
      "10 172.217.1.4     SA 172.217.12.132  SA   172.217.14.68   SA  172.217.16.132  SA   108.170.241.161 11   72.14.233.250   11   172.217.22.100  SA   108.170.243.1   11  108.170.232.11  11   216.58.199.36   SA  216.58.211.36   SA  209.85.241.135  11   64.233.185.103  SA   \n",
      "11 172.217.1.4     SA 172.217.12.132  SA   172.217.14.68   SA  172.217.16.132  SA   172.217.17.132  SA   209.85.142.70   11   172.217.22.100  SA   108.170.236.63  11  216.58.196.132  SA   216.58.199.36   SA  216.58.211.36   SA  74.125.243.145  11   -                    \n",
      "12 172.217.1.4     SA 172.217.12.132  SA   172.217.14.68   SA  172.217.16.132  SA   172.217.17.132  SA   -                    172.217.22.100  SA   108.170.243.1   11  216.58.196.132  SA   216.58.199.36   SA  216.58.211.36   SA  172.253.50.21   11   64.233.185.103  SA   \n",
      "13 172.217.1.4     SA 172.217.12.132  SA   172.217.14.68   SA  172.217.16.132  SA   172.217.17.132  SA   108.170.254.49  11   172.217.22.100  SA   108.170.236.61  11  216.58.196.132  SA   216.58.199.36   SA  216.58.211.36   SA  216.58.215.228  SA   64.233.185.103  SA   \n",
      "14 172.217.1.4     SA 172.217.12.132  SA   172.217.14.68   SA  172.217.16.132  SA   172.217.17.132  SA   72.14.238.13    11   172.217.22.100  SA   172.217.5.100   SA  216.58.196.132  SA   216.58.199.36   SA  216.58.211.36   SA  216.58.215.228  SA   64.233.185.103  SA   \n",
      "15 172.217.1.4     SA 172.217.12.132  SA   172.217.14.68   SA  172.217.16.132  SA   172.217.17.132  SA   172.217.21.132  SA   172.217.22.100  SA   172.217.5.100   SA  216.58.196.132  SA   216.58.199.36   SA  216.58.211.36   SA  216.58.215.228  SA   64.233.185.103  SA   \n",
      "16 172.217.1.4     SA 172.217.12.132  SA   172.217.14.68   SA  172.217.16.132  SA   172.217.17.132  SA   172.217.21.132  SA   172.217.22.100  SA   172.217.5.100   SA  216.58.196.132  SA   216.58.199.36   SA  216.58.211.36   SA  216.58.215.228  SA   64.233.185.103  SA   \n",
      "17 172.217.1.4     SA 172.217.12.132  SA   172.217.14.68   SA  172.217.16.132  SA   172.217.17.132  SA   172.217.21.132  SA   172.217.22.100  SA   172.217.5.100   SA  216.58.196.132  SA   216.58.199.36   SA  216.58.211.36   SA  216.58.215.228  SA   64.233.185.103  SA   \n",
      "18 172.217.1.4     SA 172.217.12.132  SA   172.217.14.68   SA  172.217.16.132  SA   172.217.17.132  SA   172.217.21.132  SA   172.217.22.100  SA   172.217.5.100   SA  216.58.196.132  SA   216.58.199.36   SA  216.58.211.36   SA  216.58.215.228  SA   64.233.185.103  SA   \n",
      "19 172.217.1.4     SA 172.217.12.132  SA   -                   172.217.16.132  SA   172.217.17.132  SA   172.217.21.132  SA   172.217.22.100  SA   172.217.5.100   SA  216.58.196.132  SA   216.58.199.36   SA  216.58.211.36   SA  -                    64.233.185.103  SA   \n",
      "20 -                  -                    172.217.14.68   SA  -                    -                    172.217.21.132  SA   -                    -                   -                    216.58.199.36   SA  216.58.211.36   SA  216.58.215.228  SA   64.233.185.103  SA   \n"
     ]
    }
   ],
   "source": [
    "traces.show()"
   ]
  },
  {
   "cell_type": "markdown",
   "metadata": {},
   "source": [
    "## Lets map the IPs\n",
    "\n",
    "similar to the api functioanlity we can use the geioip2 library and load in files from MaxMind.\n",
    "\n",
    "Checkout a great post  here: https://observablehq.com/@tmcw/visualizing-the-maxmind-geoip-database"
   ]
  },
  {
   "cell_type": "code",
   "execution_count": 16,
   "metadata": {},
   "outputs": [],
   "source": [
    "import geoip2.database"
   ]
  },
  {
   "cell_type": "code",
   "execution_count": 44,
   "metadata": {},
   "outputs": [],
   "source": [
    "reader = geoip2.database.Reader(\"/home/banana/Downloads/GeoLite2-City.mmdb\")"
   ]
  },
  {
   "cell_type": "code",
   "execution_count": 45,
   "metadata": {},
   "outputs": [],
   "source": [
    "import gmaps\n",
    "\n",
    "points = []\n",
    "features = []\n",
    "endpoints = []\n",
    "startpoints = []\n",
    "\n",
    "for k, v in traces.get_trace().items():\n",
    "    origins = []\n",
    "    try:\n",
    "        response = reader.city(k.split(':')[0])\n",
    "        endpoints.append((response.location.latitude, response.location.longitude))\n",
    "        response = reader.city(v[2][0])\n",
    "        startpoints.append((response.location.latitude, response.location.longitude))\n",
    "\n",
    "        for i in range(2, len(v.values()) + 1):\n",
    "            if v.get(i, False):\n",
    "                response = reader.city(v[i][0])\n",
    "\n",
    "                origins.append((response.location.latitude, response.location.longitude))\n",
    "\n",
    "\n",
    "        points += origins\n",
    "        solution_links = [(origins[i], origins[i + 1]) for i in range(len(origins) - 1)]\n",
    "\n",
    "        features += [gmaps.Line(\n",
    "            start=a,\n",
    "            end=b,\n",
    "            stroke_weight=5.0,\n",
    "            stroke_color='red') for a, b in solution_links]\n",
    "    except:\n",
    "        continue"
   ]
  },
  {
   "cell_type": "code",
   "execution_count": 46,
   "metadata": {},
   "outputs": [],
   "source": [
    "from ipywidgets.embed import embed_minimal_html\n",
    "from IPython.display import display, HTML\n",
    "from ipywidgets.embed import embed_minimal_html\n",
    "import statistics as s\n",
    "import gmaps\n",
    "\n",
    "gmaps.configure(api_key='api_key')\n",
    "fig = gmaps.figure(\n",
    "    center=endpoints[0],\n",
    "    zoom_level=1.5)\n",
    "\n",
    "drawing = gmaps.drawing_layer(features=features)\n",
    "e_markers = gmaps.marker_layer(endpoints)\n",
    "s_markers = gmaps.symbol_layer(\n",
    "        startpoints, fill_color=['blue']*len(startpoints))\n",
    "fig.add_layer(s_markers)\n",
    "fig.add_layer(e_markers)\n",
    "fig.add_layer(drawing)"
   ]
  },
  {
   "cell_type": "code",
   "execution_count": 43,
   "metadata": {},
   "outputs": [
    {
     "data": {
      "application/vnd.jupyter.widget-view+json": {
       "model_id": "6b8c49b173e040819ebd31fc6529e742",
       "version_major": 2,
       "version_minor": 0
      },
      "text/plain": [
       "Figure(layout=FigureLayout(height='420px'))"
      ]
     },
     "metadata": {},
     "output_type": "display_data"
    }
   ],
   "source": [
    "fig"
   ]
  },
  {
   "cell_type": "code",
   "execution_count": 47,
   "metadata": {},
   "outputs": [
    {
     "data": {
      "application/vnd.jupyter.widget-view+json": {
       "model_id": "5a878f36fa9141069b2da31603265de3",
       "version_major": 2,
       "version_minor": 0
      },
      "text/plain": [
       "Figure(layout=FigureLayout(height='420px'))"
      ]
     },
     "metadata": {},
     "output_type": "display_data"
    }
   ],
   "source": [
    "fig"
   ]
  },
  {
   "cell_type": "markdown",
   "metadata": {},
   "source": [
    "# Same data different locations\n",
    "\n",
    "So by taking two IP data sets we can see that the linkage from IP to locations is far from perfect. Also, the DNS service resolves google.com to a Mountainview IP so we can't see the POP location, data centres or the Google WAN."
   ]
  },
  {
   "cell_type": "code",
   "execution_count": null,
   "metadata": {},
   "outputs": [],
   "source": []
  }
 ],
 "metadata": {
  "colab": {
   "name": "Where_art_thou_Google?.ipynb",
   "provenance": [],
   "version": "0.3.2"
  },
  "kernelspec": {
   "display_name": "Python 3",
   "language": "python",
   "name": "python3"
  },
  "language_info": {
   "codemirror_mode": {
    "name": "ipython",
    "version": 3
   },
   "file_extension": ".py",
   "mimetype": "text/x-python",
   "name": "python",
   "nbconvert_exporter": "python",
   "pygments_lexer": "ipython3",
   "version": "3.6.8"
  }
 },
 "nbformat": 4,
 "nbformat_minor": 1
}
